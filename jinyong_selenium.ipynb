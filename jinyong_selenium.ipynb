{
 "cells": [
  {
   "cell_type": "code",
   "execution_count": 1,
   "id": "0ceb40a8",
   "metadata": {},
   "outputs": [],
   "source": [
    "from selenium import webdriver\n",
    "from selenium.common.exceptions import TimeoutException\n",
    "from selenium.webdriver.support.ui import WebDriverWait\n",
    "from selenium.webdriver.support import expected_conditions as EC\n",
    "from selenium.webdriver.common.by import By\n",
    "import json, os, pprint, time\n",
    "from urllib import parse"
   ]
  },
  {
   "cell_type": "code",
   "execution_count": 2,
   "id": "b496d25d",
   "metadata": {},
   "outputs": [],
   "source": [
    "options = webdriver.ChromeOptions()\n",
    "# 視窗最大\n",
    "options.add_argument('--start-maximized')\n",
    "# 無痕\n",
    "options.add_argument('--incongito')\n",
    "# 防跳出視窗\n",
    "options.add_argument('--disable')\n"
   ]
  },
  {
   "cell_type": "code",
   "execution_count": 20,
   "id": "194c444c",
   "metadata": {
    "scrolled": false
   },
   "outputs": [
    {
     "name": "stdout",
     "output_type": "stream",
     "text": [
      "[total] 花了 768.6458439826965秒\n"
     ]
    }
   ],
   "source": [
    "driver = webdriver.Chrome(options = options)\n",
    "\n",
    "listData = []\n",
    "\n",
    "url = 'https://www.bookwormzz.com/zh/'\n",
    "\n",
    "def visit():\n",
    "    driver.get(url)\n",
    "\n",
    "def getMainLinks():\n",
    "    aLinks = driver.find_elements(By.CSS_SELECTOR, \"a[data-ajax='false']\")\n",
    "    for a in aLinks:\n",
    "        listData.append({\n",
    "            \"title\": a.get_attribute('innerText'),\n",
    "            \"link\": parse.unquote(a.get_attribute('href'))+\"#book_toc\"\n",
    "        })\n",
    "def getSubLinks():\n",
    "    for i in range(len(listData)):\n",
    "        if \"sub\" not in listData[i]:\n",
    "            listData[i][\"sub\"] = []\n",
    "        driver.get(listData[i][\"link\"])\n",
    "        try:\n",
    "            WebDriverWait(driver, 3).until(\n",
    "                EC.presence_of_element_located(\n",
    "                    (By.CSS_SELECTOR, \"a[rel='external'][class='ui-link']\")\n",
    "                )\n",
    "            )\n",
    "            \n",
    "            aLinks = driver.find_elements(By.CSS_SELECTOR, \"a[rel='external'][class='ui-link']\")\n",
    "            \n",
    "            for a in aLinks:\n",
    "                listData[i][\"sub\"].append({\n",
    "                    \"sub_title\": a.get_attribute(\"innerText\"),\n",
    "                    \"sub_link\": parse.unquote( a.get_attribute('href'))\n",
    "                })\n",
    "            \n",
    "        except TimeoutException as e:\n",
    "            continue\n",
    "    \n",
    "def saveJson():\n",
    "    f = open(\"JinYong.json\",\"w\",encoding=\"utf-8\")\n",
    "    f.write( json.dumps(listData, ensure_ascii=False))\n",
    "    f.close()\n",
    "\n",
    "def saveTxt():\n",
    "    listContent = []\n",
    "    \n",
    "    f = open(\"JinYong.json\",\"r\",encoding=\"utf-8\")\n",
    "    strJson = f.read()\n",
    "    f.close()\n",
    "    \n",
    "    folderPath = '/Users/gaoming/Downloads/JinYong'\n",
    "    if not os.path.exists(folderPath):\n",
    "        os.makedirs(folderPath)\n",
    "    \n",
    "    listResult = json.loads(strJson)\n",
    "    for i in range(len(listResult)):\n",
    "        for j in range(len(listResult[i][\"sub\"])):\n",
    "            driver.get(listResult[i][\"sub\"][j][\"sub_link\"])\n",
    "            div = driver.find_element(By.CSS_SELECTOR, 'div#html > div')\n",
    "            strContent = div.get_attribute('innerText')\n",
    "            strContent = strContent.replace(\" \",\"\")\n",
    "            strContent = strContent.replace(\"\\r\",\"\")\n",
    "            strContent = strContent.replace(\"\\n\",\"\")\n",
    "            \n",
    "            fileName = f\"{listResult[i]['title']}_{listResult[i]['sub'][j]['sub_title']}.txt\"\n",
    "            fp = open(f\"{folderPath}/{fileName}\",\"w\",encoding=\"utf-8\")\n",
    "            fp.write(strContent)\n",
    "            fp.close()\n",
    "            \n",
    "            listContent.append(strContent)\n",
    "            \n",
    "    f = open(\"train.json\",\"w\",encoding=\"utf-8\")\n",
    "    f.write(json.dumps(listContent, ensure_ascii=False))\n",
    "    f.close()\n",
    "    \n",
    "def close():\n",
    "    driver.quit()\n",
    "    \n",
    "    \n",
    "        \n",
    "if __name__ == \"__main__\":\n",
    "    time1 = time.time()\n",
    "    visit()\n",
    "    getMainLinks()\n",
    "    getSubLinks()\n",
    "    saveJson()\n",
    "    saveTxt()\n",
    "    close()\n",
    "    print(f\"[total] 花了 {time.time()-time1}秒\")"
   ]
  },
  {
   "cell_type": "code",
   "execution_count": null,
   "id": "25cd4c35",
   "metadata": {},
   "outputs": [],
   "source": []
  }
 ],
 "metadata": {
  "kernelspec": {
   "display_name": "Python 3 (ipykernel)",
   "language": "python",
   "name": "python3"
  },
  "language_info": {
   "codemirror_mode": {
    "name": "ipython",
    "version": 3
   },
   "file_extension": ".py",
   "mimetype": "text/x-python",
   "name": "python",
   "nbconvert_exporter": "python",
   "pygments_lexer": "ipython3",
   "version": "3.8.11"
  }
 },
 "nbformat": 4,
 "nbformat_minor": 5
}
